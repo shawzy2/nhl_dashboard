{
 "cells": [
  {
   "cell_type": "markdown",
   "id": "c49728ac",
   "metadata": {},
   "source": [
    "# Scraping Rosters and Player Headshots\n",
    "\n",
    "Sources: \n",
    "\n",
    "* Rosters: [NHL API](https://statsapi.web.nhl.com/api/v1/teams/3?expand=team.roster)\n",
    "* Headshots: [Artemi Panarin](https://cms.nhl.bamgrid.com/images/headshots/current/168x168/8478550.jpg)"
   ]
  },
  {
   "cell_type": "code",
   "execution_count": 1,
   "id": "7a004c78",
   "metadata": {},
   "outputs": [],
   "source": [
    "import requests\n",
    "import json\n",
    "import pandas as pd\n",
    "import os"
   ]
  },
  {
   "cell_type": "markdown",
   "id": "a9b4142d",
   "metadata": {},
   "source": [
    "## New York Rangers Only\n",
    "\n",
    "##### Grab Roster IDs"
   ]
  },
  {
   "cell_type": "code",
   "execution_count": 2,
   "id": "c56e5855",
   "metadata": {},
   "outputs": [],
   "source": [
    "# get all team data\n",
    "team_id = 3\n",
    "r = requests.get(url=f'https://statsapi.web.nhl.com/api/v1/teams/{team_id}?expand=team.roster')\n",
    "d = r.json()\n",
    "roster = d['teams'][0]['roster']['roster']"
   ]
  },
  {
   "cell_type": "code",
   "execution_count": 3,
   "id": "1de6b7bc",
   "metadata": {},
   "outputs": [],
   "source": [
    "master_roster = {}"
   ]
  },
  {
   "cell_type": "code",
   "execution_count": 4,
   "id": "9c32c3ae",
   "metadata": {},
   "outputs": [],
   "source": [
    "player_info = {}\n",
    "for player in roster:\n",
    "    player_info[player['person']['id']] = {\n",
    "        'currentTeamId': team_id,\n",
    "        'name': player['person']['fullName'],\n",
    "        'jersey': player['jerseyNumber'],\n",
    "        'position': player['position']['abbreviation']\n",
    "    }\n",
    "\n",
    "# update rosters\n",
    "with open('data/roster.json') as f:\n",
    "    master_roster = json.load(f)\n",
    "master_roster.update(player_info)\n",
    "    \n",
    "with open('data/roster.json', 'w', encoding='utf-8') as f:\n",
    "    json.dump(master_roster, f, ensure_ascii=False, indent=4)"
   ]
  },
  {
   "cell_type": "markdown",
   "id": "2830aec7",
   "metadata": {},
   "source": [
    "##### Download Images for Each Player"
   ]
  },
  {
   "cell_type": "code",
   "execution_count": 9,
   "id": "db59c23f",
   "metadata": {},
   "outputs": [],
   "source": [
    "team_id = 3\n",
    "\n",
    "# create path for team folder if it doesn't exist\n",
    "if not os.path.exists(f'data/{team_id}'):\n",
    "    os.makedirs(f'data/{team_id}/headshots')\n",
    "    \n",
    "    \n",
    "# get player images, download to team folder\n",
    "for player_id, val in player_info.items():\n",
    "    link = f'https://cms.nhl.bamgrid.com/images/headshots/current/168x168/{player_id}.jpg'\n",
    "    img = requests.get(link).content\n",
    "    with open(f'data/{team_id}/headshots/{player_id}.jpg', 'wb') as handler:\n",
    "        handler.write(img)"
   ]
  },
  {
   "cell_type": "code",
   "execution_count": null,
   "id": "0a24fbfb",
   "metadata": {},
   "outputs": [],
   "source": []
  },
  {
   "cell_type": "code",
   "execution_count": null,
   "id": "2391b69f",
   "metadata": {},
   "outputs": [],
   "source": []
  },
  {
   "cell_type": "code",
   "execution_count": null,
   "id": "e5655dc4",
   "metadata": {},
   "outputs": [],
   "source": []
  },
  {
   "cell_type": "code",
   "execution_count": null,
   "id": "89a42801",
   "metadata": {},
   "outputs": [],
   "source": []
  }
 ],
 "metadata": {
  "kernelspec": {
   "display_name": "Python 3 (ipykernel)",
   "language": "python",
   "name": "python3"
  },
  "language_info": {
   "codemirror_mode": {
    "name": "ipython",
    "version": 3
   },
   "file_extension": ".py",
   "mimetype": "text/x-python",
   "name": "python",
   "nbconvert_exporter": "python",
   "pygments_lexer": "ipython3",
   "version": "3.8.1"
  }
 },
 "nbformat": 4,
 "nbformat_minor": 5
}
