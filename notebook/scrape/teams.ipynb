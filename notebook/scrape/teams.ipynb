{
 "cells": [
  {
   "cell_type": "markdown",
   "id": "73dc6fdd",
   "metadata": {},
   "source": [
    "# Scrape All Teams"
   ]
  },
  {
   "cell_type": "code",
   "execution_count": 1,
   "id": "26685dce",
   "metadata": {},
   "outputs": [],
   "source": [
    "import json\n",
    "import requests\n",
    "import pprint\n",
    "import pandas as pd"
   ]
  },
  {
   "cell_type": "markdown",
   "id": "96d0c535",
   "metadata": {},
   "source": [
    "## Team Data\n",
    "scrape"
   ]
  },
  {
   "cell_type": "code",
   "execution_count": 2,
   "id": "83b1a2fa",
   "metadata": {},
   "outputs": [
    {
     "data": {
      "text/plain": [
       "{'id': 1,\n",
       " 'name': 'New Jersey Devils',\n",
       " 'link': '/api/v1/teams/1',\n",
       " 'venue': {'name': 'Prudential Center',\n",
       "  'link': '/api/v1/venues/null',\n",
       "  'city': 'Newark',\n",
       "  'timeZone': {'id': 'America/New_York', 'offset': -4, 'tz': 'EDT'}},\n",
       " 'abbreviation': 'NJD',\n",
       " 'teamName': 'Devils',\n",
       " 'locationName': 'New Jersey',\n",
       " 'firstYearOfPlay': '1982',\n",
       " 'division': {'id': 18,\n",
       "  'name': 'Metropolitan',\n",
       "  'nameShort': 'Metro',\n",
       "  'link': '/api/v1/divisions/18',\n",
       "  'abbreviation': 'M'},\n",
       " 'conference': {'id': 6, 'name': 'Eastern', 'link': '/api/v1/conferences/6'},\n",
       " 'franchise': {'franchiseId': 23,\n",
       "  'teamName': 'Devils',\n",
       "  'link': '/api/v1/franchises/23'},\n",
       " 'shortName': 'New Jersey',\n",
       " 'officialSiteUrl': 'http://www.newjerseydevils.com/',\n",
       " 'franchiseId': 23,\n",
       " 'active': True}"
      ]
     },
     "execution_count": 2,
     "metadata": {},
     "output_type": "execute_result"
    }
   ],
   "source": [
    "url = 'https://statsapi.web.nhl.com/api/v1/teams'\n",
    "r = requests.get(url=url)\n",
    "d = r.json()\n",
    "d['teams'][0]"
   ]
  },
  {
   "cell_type": "markdown",
   "id": "f494d540",
   "metadata": {},
   "source": [
    "extract"
   ]
  },
  {
   "cell_type": "code",
   "execution_count": 3,
   "id": "f1ce98ba",
   "metadata": {},
   "outputs": [],
   "source": [
    "# for team in d['teams']:\n",
    "#     pprint.pprint(team)\n",
    "    \n",
    "teams = [{\n",
    "    'teamId': team['id'],\n",
    "    'name': team['name'],\n",
    "    'locationName': team['locationName'],\n",
    "    'teamName': team['teamName'],\n",
    "    'abbreviation': team['abbreviation'],\n",
    "    'division': team['division']['name'],\n",
    "    'conference': team['conference']['name'],\n",
    "    'firstYearOfPlay': team['firstYearOfPlay'],\n",
    "    'venue': team['venue']['name'],\n",
    "    'timezone': team['venue']['timeZone']['tz']\n",
    "} for team in d['teams']]"
   ]
  },
  {
   "cell_type": "markdown",
   "id": "733c2d16",
   "metadata": {},
   "source": [
    "save to json"
   ]
  },
  {
   "cell_type": "code",
   "execution_count": 4,
   "id": "2cd6ffdf",
   "metadata": {},
   "outputs": [],
   "source": [
    "df_teams = pd.DataFrame(teams)\n",
    "df_teams.to_json('../../backend/data/teamsCurrent.json', orient='records')"
   ]
  },
  {
   "cell_type": "markdown",
   "id": "d182129d",
   "metadata": {},
   "source": [
    "## Roster Data\n",
    "scrape"
   ]
  },
  {
   "cell_type": "code",
   "execution_count": 5,
   "id": "ece3c7ec",
   "metadata": {},
   "outputs": [],
   "source": [
    "# list of teamIds\n",
    "teamIds = df_teams['teamId'].tolist()\n",
    "new_roster = []\n",
    "for teamId in teamIds:\n",
    "    # download roster\n",
    "    r = requests.get(url=f'https://statsapi.web.nhl.com/api/v1/teams/{teamId}?expand=team.roster')\n",
    "    d = r.json()\n",
    "    roster = d['teams'][0]['roster']['roster']\n",
    "    \n",
    "    # download info about each player in roster\n",
    "    for player in roster:\n",
    "        try:\n",
    "            pid = player['person']['id']\n",
    "            r_sub = requests.get(url=f'https://statsapi.web.nhl.com/api/v1/people/{pid}')\n",
    "            d_sub = r_sub.json()\n",
    "            player = d_sub['people'][0]\n",
    "            \n",
    "            # some rookies don't have jersey numbers or positions assigned\n",
    "            jersey_num = 0\n",
    "            if 'primaryNumber' in player:\n",
    "                jersey_num = player['primaryNumber']\n",
    "                \n",
    "            new_roster.append({\n",
    "                'playerId': pid,\n",
    "                'teamId': player['currentTeam']['id'],\n",
    "                'birthDate': player['birthDate'],\n",
    "                'firstName': player['firstName'],\n",
    "                'lastName': player['lastName'],\n",
    "                'primaryNumber': jersey_num,\n",
    "                'birthCity': player['birthCity'],\n",
    "                'birthCountry': player['birthCountry'],\n",
    "                'nationality': player['nationality'],\n",
    "                'height': player['height'],\n",
    "                'weight': player['weight'],\n",
    "                'shootsCatches': player['shootsCatches'],\n",
    "                'position': player['primaryPosition']['abbreviation']    \n",
    "            })\n",
    "            \n",
    "        except:\n",
    "            print('error on playerId ' + str(pid))\n",
    "        "
   ]
  },
  {
   "cell_type": "code",
   "execution_count": 6,
   "id": "f2341cfe",
   "metadata": {},
   "outputs": [
    {
     "data": {
      "text/html": [
       "<div>\n",
       "<style scoped>\n",
       "    .dataframe tbody tr th:only-of-type {\n",
       "        vertical-align: middle;\n",
       "    }\n",
       "\n",
       "    .dataframe tbody tr th {\n",
       "        vertical-align: top;\n",
       "    }\n",
       "\n",
       "    .dataframe thead th {\n",
       "        text-align: right;\n",
       "    }\n",
       "</style>\n",
       "<table border=\"1\" class=\"dataframe\">\n",
       "  <thead>\n",
       "    <tr style=\"text-align: right;\">\n",
       "      <th></th>\n",
       "      <th>playerId</th>\n",
       "      <th>teamId</th>\n",
       "      <th>birthDate</th>\n",
       "      <th>firstName</th>\n",
       "      <th>lastName</th>\n",
       "      <th>primaryNumber</th>\n",
       "      <th>birthCity</th>\n",
       "      <th>birthCountry</th>\n",
       "      <th>nationality</th>\n",
       "      <th>height</th>\n",
       "      <th>weight</th>\n",
       "      <th>shootsCatches</th>\n",
       "      <th>position</th>\n",
       "    </tr>\n",
       "  </thead>\n",
       "  <tbody>\n",
       "    <tr>\n",
       "      <th>0</th>\n",
       "      <td>8473541</td>\n",
       "      <td>1</td>\n",
       "      <td>1988-08-07</td>\n",
       "      <td>Jonathan</td>\n",
       "      <td>Bernier</td>\n",
       "      <td>45</td>\n",
       "      <td>Laval</td>\n",
       "      <td>CAN</td>\n",
       "      <td>CAN</td>\n",
       "      <td>72.0</td>\n",
       "      <td>185</td>\n",
       "      <td>L</td>\n",
       "      <td>G</td>\n",
       "    </tr>\n",
       "    <tr>\n",
       "      <th>1</th>\n",
       "      <td>8480054</td>\n",
       "      <td>1</td>\n",
       "      <td>1999-04-21</td>\n",
       "      <td>Reilly</td>\n",
       "      <td>Walsh</td>\n",
       "      <td>8</td>\n",
       "      <td>Framingham</td>\n",
       "      <td>USA</td>\n",
       "      <td>USA</td>\n",
       "      <td>72.0</td>\n",
       "      <td>185</td>\n",
       "      <td>R</td>\n",
       "      <td>D</td>\n",
       "    </tr>\n",
       "    <tr>\n",
       "      <th>2</th>\n",
       "      <td>8474056</td>\n",
       "      <td>1</td>\n",
       "      <td>1989-05-13</td>\n",
       "      <td>P.K.</td>\n",
       "      <td>Subban</td>\n",
       "      <td>76</td>\n",
       "      <td>Toronto</td>\n",
       "      <td>CAN</td>\n",
       "      <td>CAN</td>\n",
       "      <td>72.0</td>\n",
       "      <td>210</td>\n",
       "      <td>R</td>\n",
       "      <td>D</td>\n",
       "    </tr>\n",
       "    <tr>\n",
       "      <th>3</th>\n",
       "      <td>8475193</td>\n",
       "      <td>1</td>\n",
       "      <td>1990-12-01</td>\n",
       "      <td>Tomas</td>\n",
       "      <td>Tatar</td>\n",
       "      <td>90</td>\n",
       "      <td>Ilava</td>\n",
       "      <td>SVK</td>\n",
       "      <td>SVK</td>\n",
       "      <td>70.0</td>\n",
       "      <td>173</td>\n",
       "      <td>L</td>\n",
       "      <td>LW</td>\n",
       "    </tr>\n",
       "    <tr>\n",
       "      <th>4</th>\n",
       "      <td>8476462</td>\n",
       "      <td>1</td>\n",
       "      <td>1993-06-17</td>\n",
       "      <td>Dougie</td>\n",
       "      <td>Hamilton</td>\n",
       "      <td>7</td>\n",
       "      <td>Toronto</td>\n",
       "      <td>CAN</td>\n",
       "      <td>CAN</td>\n",
       "      <td>78.0</td>\n",
       "      <td>230</td>\n",
       "      <td>R</td>\n",
       "      <td>D</td>\n",
       "    </tr>\n",
       "  </tbody>\n",
       "</table>\n",
       "</div>"
      ],
      "text/plain": [
       "   playerId  teamId   birthDate firstName  lastName primaryNumber   birthCity  \\\n",
       "0   8473541       1  1988-08-07  Jonathan   Bernier            45       Laval   \n",
       "1   8480054       1  1999-04-21    Reilly     Walsh             8  Framingham   \n",
       "2   8474056       1  1989-05-13      P.K.    Subban            76     Toronto   \n",
       "3   8475193       1  1990-12-01     Tomas     Tatar            90       Ilava   \n",
       "4   8476462       1  1993-06-17    Dougie  Hamilton             7     Toronto   \n",
       "\n",
       "  birthCountry nationality  height  weight shootsCatches position  \n",
       "0          CAN         CAN    72.0     185             L        G  \n",
       "1          USA         USA    72.0     185             R        D  \n",
       "2          CAN         CAN    72.0     210             R        D  \n",
       "3          SVK         SVK    70.0     173             L       LW  \n",
       "4          CAN         CAN    78.0     230             R        D  "
      ]
     },
     "execution_count": 6,
     "metadata": {},
     "output_type": "execute_result"
    }
   ],
   "source": [
    "# now read in roster and parse height\n",
    "def parse_ht(ht):\n",
    "    # format: 7' 0.0\"\n",
    "    ht_ = ht.split(\"' \")\n",
    "    ft_ = float(ht_[0])\n",
    "    in_ = float(ht_[1].replace(\"\\\"\",\"\"))\n",
    "    return (12*ft_) + in_\n",
    "\n",
    "df_roster = pd.DataFrame(new_roster)\n",
    "df_roster[\"height\"] = df_roster[\"height\"].apply(lambda x:parse_ht(x))\n",
    "df_roster.head()"
   ]
  },
  {
   "cell_type": "code",
   "execution_count": 7,
   "id": "e0e6bb74",
   "metadata": {},
   "outputs": [],
   "source": [
    "# save roster data\n",
    "df_roster.to_json('../../backend/data/rosterCurrent.json', orient='records')"
   ]
  },
  {
   "cell_type": "markdown",
   "id": "499f80f7",
   "metadata": {},
   "source": [
    "## Headshot Images"
   ]
  },
  {
   "cell_type": "code",
   "execution_count": 8,
   "id": "0ff64739",
   "metadata": {},
   "outputs": [],
   "source": [
    "for playerId in df_roster['playerId']:\n",
    "    link = f'https://cms.nhl.bamgrid.com/images/headshots/current/168x168/{playerId}.jpg'\n",
    "    img = requests.get(link).content\n",
    "    with open(f'../../frontend/src/assets/headshots/{playerId}.jpg', 'wb') as handler:\n",
    "        handler.write(img)"
   ]
  },
  {
   "cell_type": "code",
   "execution_count": null,
   "id": "18e942b7",
   "metadata": {},
   "outputs": [],
   "source": []
  },
  {
   "cell_type": "code",
   "execution_count": null,
   "id": "efd3f532",
   "metadata": {},
   "outputs": [],
   "source": []
  },
  {
   "cell_type": "code",
   "execution_count": null,
   "id": "2bffb36b",
   "metadata": {},
   "outputs": [],
   "source": []
  },
  {
   "cell_type": "code",
   "execution_count": null,
   "id": "33f347fd",
   "metadata": {},
   "outputs": [],
   "source": []
  },
  {
   "cell_type": "code",
   "execution_count": null,
   "id": "9f93c6ac",
   "metadata": {},
   "outputs": [],
   "source": []
  },
  {
   "cell_type": "code",
   "execution_count": null,
   "id": "59babf55",
   "metadata": {},
   "outputs": [],
   "source": []
  },
  {
   "cell_type": "code",
   "execution_count": null,
   "id": "1351480d",
   "metadata": {},
   "outputs": [],
   "source": []
  },
  {
   "cell_type": "code",
   "execution_count": null,
   "id": "929c3203",
   "metadata": {},
   "outputs": [],
   "source": [
    "\n",
    "\n",
    "\n",
    "\n",
    "\n",
    "\n",
    "\n",
    "\n",
    "\n",
    "\n",
    "\n",
    "\n",
    "\n",
    "\n",
    "\n",
    "\n",
    "\n",
    "\n",
    "\n",
    "\n",
    "\n",
    "\n",
    "\n",
    "\n",
    "\n",
    "\n",
    "\n",
    "\n",
    "\n",
    "\n",
    "\n",
    "\n",
    "\n",
    "\n",
    "\n",
    "\n",
    "\n",
    "\n",
    "\n",
    "\n",
    "\n",
    "\n"
   ]
  }
 ],
 "metadata": {
  "kernelspec": {
   "display_name": "Python 3 (ipykernel)",
   "language": "python",
   "name": "python3"
  },
  "language_info": {
   "codemirror_mode": {
    "name": "ipython",
    "version": 3
   },
   "file_extension": ".py",
   "mimetype": "text/x-python",
   "name": "python",
   "nbconvert_exporter": "python",
   "pygments_lexer": "ipython3",
   "version": "3.8.1"
  }
 },
 "nbformat": 4,
 "nbformat_minor": 5
}
