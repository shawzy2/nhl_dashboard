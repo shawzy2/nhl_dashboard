{
 "cells": [
  {
   "cell_type": "markdown",
   "id": "b49a5b0d",
   "metadata": {},
   "source": [
    "# Scrape All Teams"
   ]
  },
  {
   "cell_type": "code",
   "execution_count": 19,
   "id": "16cb0ce5",
   "metadata": {},
   "outputs": [],
   "source": [
    "import json\n",
    "import requests\n",
    "import pprint\n",
    "import pandas as pd"
   ]
  },
  {
   "cell_type": "markdown",
   "id": "02dcca85",
   "metadata": {},
   "source": [
    "scrape"
   ]
  },
  {
   "cell_type": "code",
   "execution_count": 20,
   "id": "ee466b3d",
   "metadata": {},
   "outputs": [
    {
     "data": {
      "text/plain": [
       "{'id': 1,\n",
       " 'name': 'New Jersey Devils',\n",
       " 'link': '/api/v1/teams/1',\n",
       " 'venue': {'name': 'Prudential Center',\n",
       "  'link': '/api/v1/venues/null',\n",
       "  'city': 'Newark',\n",
       "  'timeZone': {'id': 'America/New_York', 'offset': -4, 'tz': 'EDT'}},\n",
       " 'abbreviation': 'NJD',\n",
       " 'teamName': 'Devils',\n",
       " 'locationName': 'New Jersey',\n",
       " 'firstYearOfPlay': '1982',\n",
       " 'division': {'id': 18,\n",
       "  'name': 'Metropolitan',\n",
       "  'nameShort': 'Metro',\n",
       "  'link': '/api/v1/divisions/18',\n",
       "  'abbreviation': 'M'},\n",
       " 'conference': {'id': 6, 'name': 'Eastern', 'link': '/api/v1/conferences/6'},\n",
       " 'franchise': {'franchiseId': 23,\n",
       "  'teamName': 'Devils',\n",
       "  'link': '/api/v1/franchises/23'},\n",
       " 'shortName': 'New Jersey',\n",
       " 'officialSiteUrl': 'http://www.newjerseydevils.com/',\n",
       " 'franchiseId': 23,\n",
       " 'active': True}"
      ]
     },
     "execution_count": 20,
     "metadata": {},
     "output_type": "execute_result"
    }
   ],
   "source": [
    "url = 'https://statsapi.web.nhl.com/api/v1/teams'\n",
    "r = requests.get(url=url)\n",
    "d = r.json()\n",
    "d['teams'][0]"
   ]
  },
  {
   "cell_type": "markdown",
   "id": "1b7a983c",
   "metadata": {},
   "source": [
    "extract"
   ]
  },
  {
   "cell_type": "code",
   "execution_count": 21,
   "id": "b7a35c42",
   "metadata": {},
   "outputs": [],
   "source": [
    "# for team in d['teams']:\n",
    "#     pprint.pprint(team)\n",
    "    \n",
    "teams = [{\n",
    "    'teamId': team['id'],\n",
    "    'name': team['name'],\n",
    "    'locationName': team['locationName'],\n",
    "    'teamName': team['teamName'],\n",
    "    'abbreviation': team['abbreviation'],\n",
    "    'division': team['division']['name'],\n",
    "    'conference': team['conference']['name'],\n",
    "    'firstYearOfPlay': team['firstYearOfPlay'],\n",
    "    'venue': team['venue']['name'],\n",
    "    'timezone': team['venue']['timeZone']['tz']\n",
    "} for team in d['teams']]"
   ]
  },
  {
   "cell_type": "markdown",
   "id": "3206faf5",
   "metadata": {},
   "source": [
    "save to json"
   ]
  },
  {
   "cell_type": "code",
   "execution_count": 22,
   "id": "5f9b8196",
   "metadata": {},
   "outputs": [],
   "source": [
    "df_teams = pd.DataFrame(teams)\n",
    "df_teams.to_json('../../backend/data/teamsCurrent.json', orient='records')"
   ]
  },
  {
   "cell_type": "code",
   "execution_count": null,
   "id": "52d686e2",
   "metadata": {},
   "outputs": [],
   "source": []
  },
  {
   "cell_type": "code",
   "execution_count": null,
   "id": "f8954205",
   "metadata": {},
   "outputs": [],
   "source": [
    "teams = [{\n",
    "    'teamId': team['id'],\n",
    "    'name': team['name'],\n",
    "    'locationName': team['locationName'],\n",
    "    'teamName': team['teamName'],\n",
    "    'abbreviation': team['abbreviation'],\n",
    "    'division': team['division']['nameShort'],\n",
    "    'conference': team['conference']['name'],\n",
    "    'firstYearOfPlay': team['firstYearOfPlay'],\n",
    "    'venue': team['venue']['name'],\n",
    "    'timezone': team['venue']['timeZone']['tz']\n",
    "} for homeaway, team in d['gameData']['teams'].items()]"
   ]
  }
 ],
 "metadata": {
  "kernelspec": {
   "display_name": "Python 3 (ipykernel)",
   "language": "python",
   "name": "python3"
  },
  "language_info": {
   "codemirror_mode": {
    "name": "ipython",
    "version": 3
   },
   "file_extension": ".py",
   "mimetype": "text/x-python",
   "name": "python",
   "nbconvert_exporter": "python",
   "pygments_lexer": "ipython3",
   "version": "3.8.1"
  }
 },
 "nbformat": 4,
 "nbformat_minor": 5
}
