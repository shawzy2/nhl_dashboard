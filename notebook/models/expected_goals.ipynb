{
 "cells": [
  {
   "cell_type": "markdown",
   "id": "cb58f309",
   "metadata": {},
   "source": [
    "# Expected Goals Model\n",
    "\n",
    "Slim model using limited number of features."
   ]
  },
  {
   "cell_type": "code",
   "execution_count": 1,
   "id": "de83dbb3",
   "metadata": {},
   "outputs": [],
   "source": [
    "import os\n",
    "import json\n",
    "import pprint\n",
    "import pandas as pd\n",
    "import matplotlib.pyplot as plt\n",
    "import numpy as np\n",
    "from scipy import stats"
   ]
  },
  {
   "cell_type": "markdown",
   "id": "619309c4",
   "metadata": {},
   "source": [
    "### Downloading Data\n",
    "__Only do this if you do not have data on local drive. This will download ~3GB of data.__\n",
    "\n",
    "First, let us load the data from an [AWS S3 bucket](https://s3.console.aws.amazon.com/s3/buckets/nhl-api-game-events?region=us-west-2&tab=objects#). Data was originally retrieved from the [NHL Public API](https://gitlab.com/dword4/nhlapi/-/blob/master/stats-api.md)."
   ]
  },
  {
   "cell_type": "code",
   "execution_count": 2,
   "id": "1cfd94c5",
   "metadata": {},
   "outputs": [],
   "source": [
    "# import boto3\n",
    "\n",
    "# # input your credentials, bucket is public but we need a personal AWS account these to gain programatic access\n",
    "# s3 = boto3.client(\n",
    "#     's3',\n",
    "#     aws_access_key_id='xxxx',\n",
    "#     aws_secret_access_key='xxxxx'\n",
    "# )\n",
    "\n",
    "# # download objects to data foler\n",
    "# BUCKET_NAME = 'nhl-api-game-events'\n",
    "# seasons = ['2015', '2016', '2017', '2018', '2019', '2020', '2021']\n",
    "# for season in seasons:\n",
    "#     OBJECT_NAME = f'{season}_regSeasonPlays.json'\n",
    "#     FILE_NAME = f'../data/gameData/{season}_regSeasonPlays.json'\n",
    "#     s3.download_file(BUCKET_NAME, OBJECT_NAME, FILE_NAME)"
   ]
  },
  {
   "cell_type": "markdown",
   "id": "62f7a905",
   "metadata": {},
   "source": [
    "### Loading Data\n",
    "\n",
    "Load data into memory, adjust _path_ variable to point to data files."
   ]
  },
  {
   "cell_type": "code",
   "execution_count": 19,
   "id": "5aca4648",
   "metadata": {},
   "outputs": [
    {
     "name": "stdout",
     "output_type": "stream",
     "text": [
      "../../../DATA/regularSeason/2020_regSeasonPlays.json\n",
      "../../../DATA/regularSeason/2021_regSeasonPlays.json\n"
     ]
    }
   ],
   "source": [
    "# years = ['2015','2016','2017','2018', '2019', '2020', '2021']\n",
    "years = ['2020', '2021']\n",
    "games = {}\n",
    "for year in years:\n",
    "    path = '../../../DATA/regularSeason/' + year + '_regSeasonPlays.json'\n",
    "    print(path)\n",
    "    with open(path) as f:\n",
    "        games[year] = json.load(f)"
   ]
  },
  {
   "cell_type": "markdown",
   "id": "0fdb5806",
   "metadata": {},
   "source": [
    "### Data Mining\n",
    "\n",
    "Extract shots from the raw data."
   ]
  },
  {
   "cell_type": "code",
   "execution_count": 20,
   "id": "82c45dcd",
   "metadata": {},
   "outputs": [],
   "source": [
    "# get information we care about: shots and goals\n",
    "shots = []\n",
    "for season in games:\n",
    "    for game_id in games[season]:\n",
    "        home_team = games[season][game_id]['home_team']\n",
    "        away_team = games[season][game_id]['away_team']\n",
    "        for event in games[season][game_id]['events']:\n",
    "            # if event is shot or goal, save it\n",
    "            if event['result']['event'] == 'Shot' or event['result']['event'] == 'Goal':\n",
    "                shooter = ''\n",
    "                shooter_id = 0\n",
    "                goalie = ''\n",
    "                goalie_id = 0\n",
    "\n",
    "                # extract shooter/goalie\n",
    "                for player in event['players']:\n",
    "                    if player['playerType'] == 'Shooter' or player['playerType'] == 'Scorer':\n",
    "                        shooter = player['player']['fullName']\n",
    "                        shooter_id = player['player']['id']\n",
    "                    elif player['playerType'] == 'Goalie':\n",
    "                        goalie = player['player']['fullName']\n",
    "                        goalie_id = player['player']['id']\n",
    "\n",
    "                # extract shooter/goalie team\n",
    "                shooter_team = event['team']['name']\n",
    "                goalie_team = home_team\n",
    "                if goalie_team == shooter_team: goalie_team = away_team\n",
    "\n",
    "                # extract strength for goal\n",
    "                strength = 'unknown'\n",
    "                try:\n",
    "                    strength = event['result']['strength']['name']\n",
    "                except:\n",
    "                    pass\n",
    "\n",
    "                shots.append({\n",
    "                    'season_id': season,\n",
    "                    'game_id': game_id,\n",
    "                    'home_team': home_team,\n",
    "                    'away_team': away_team,\n",
    "                    'dateTime': event['about']['dateTime'],\n",
    "                    'period': event['about']['period'],\n",
    "                    'periodTime': event['about']['periodTime'],\n",
    "                    'x_loc': event['coordinates'].get('x', np.NaN),\n",
    "                    'y_loc': event['coordinates'].get('y', np.NaN),\n",
    "                    'shooter': shooter,\n",
    "                    'shooter_id': shooter_id,\n",
    "                    'shooter_team': shooter_team,\n",
    "                    'goalie': goalie,\n",
    "                    'goalie_id': goalie_id,\n",
    "                    'goalie_team': goalie_team,\n",
    "                    'is_goal': (event['result']['event'] == 'Goal'),\n",
    "                    'shot_type': event['result'].get('secondaryType'),                \n",
    "                    'strength': strength\n",
    "                })"
   ]
  },
  {
   "cell_type": "markdown",
   "id": "a722474f",
   "metadata": {},
   "source": [
    "### Feature engineering\n",
    "The following features are extracted from the raw data and used as predictors in our models. Additional data, such as shooter/goalie characteristics and travel between timezones are extracted.\n",
    "\n",
    "* time since last shot (time in period) **records of actual time are inaccurate\n",
    "* coordinates location of shoot\n",
    "* change of angle since last shot\n",
    "* change in distance since last shot"
   ]
  },
  {
   "cell_type": "code",
   "execution_count": 31,
   "id": "fe910bc2",
   "metadata": {},
   "outputs": [
    {
     "data": {
      "text/html": [
       "<div>\n",
       "<style scoped>\n",
       "    .dataframe tbody tr th:only-of-type {\n",
       "        vertical-align: middle;\n",
       "    }\n",
       "\n",
       "    .dataframe tbody tr th {\n",
       "        vertical-align: top;\n",
       "    }\n",
       "\n",
       "    .dataframe thead th {\n",
       "        text-align: right;\n",
       "    }\n",
       "</style>\n",
       "<table border=\"1\" class=\"dataframe\">\n",
       "  <thead>\n",
       "    <tr style=\"text-align: right;\">\n",
       "      <th></th>\n",
       "      <th>season_id</th>\n",
       "      <th>game_id</th>\n",
       "      <th>home_team</th>\n",
       "      <th>away_team</th>\n",
       "      <th>dateTime</th>\n",
       "      <th>period</th>\n",
       "      <th>periodTime</th>\n",
       "      <th>x_loc</th>\n",
       "      <th>y_loc</th>\n",
       "      <th>shooter</th>\n",
       "      <th>...</th>\n",
       "      <th>shot_dist</th>\n",
       "      <th>shot_dist_prev</th>\n",
       "      <th>shot_dist_diff</th>\n",
       "      <th>shot_type_Backhand</th>\n",
       "      <th>shot_type_Deflected</th>\n",
       "      <th>shot_type_Slap Shot</th>\n",
       "      <th>shot_type_Snap Shot</th>\n",
       "      <th>shot_type_Tip-In</th>\n",
       "      <th>shot_type_Wrap-around</th>\n",
       "      <th>shot_type_Wrist Shot</th>\n",
       "    </tr>\n",
       "  </thead>\n",
       "  <tbody>\n",
       "    <tr>\n",
       "      <th>1</th>\n",
       "      <td>2020</td>\n",
       "      <td>2020020001</td>\n",
       "      <td>Philadelphia Flyers</td>\n",
       "      <td>Pittsburgh Penguins</td>\n",
       "      <td>2021-01-13T22:33:18Z</td>\n",
       "      <td>1</td>\n",
       "      <td>00:34</td>\n",
       "      <td>49.0</td>\n",
       "      <td>-25.0</td>\n",
       "      <td>Evan Rodrigues</td>\n",
       "      <td>...</td>\n",
       "      <td>47.17</td>\n",
       "      <td>0.00</td>\n",
       "      <td>47.17</td>\n",
       "      <td>0</td>\n",
       "      <td>0</td>\n",
       "      <td>0</td>\n",
       "      <td>0</td>\n",
       "      <td>0</td>\n",
       "      <td>0</td>\n",
       "      <td>1</td>\n",
       "    </tr>\n",
       "    <tr>\n",
       "      <th>3</th>\n",
       "      <td>2020</td>\n",
       "      <td>2020020001</td>\n",
       "      <td>Philadelphia Flyers</td>\n",
       "      <td>Pittsburgh Penguins</td>\n",
       "      <td>2021-01-13T22:37:01Z</td>\n",
       "      <td>1</td>\n",
       "      <td>02:51</td>\n",
       "      <td>43.0</td>\n",
       "      <td>39.0</td>\n",
       "      <td>Evan Rodrigues</td>\n",
       "      <td>...</td>\n",
       "      <td>60.31</td>\n",
       "      <td>47.17</td>\n",
       "      <td>13.14</td>\n",
       "      <td>0</td>\n",
       "      <td>0</td>\n",
       "      <td>0</td>\n",
       "      <td>1</td>\n",
       "      <td>0</td>\n",
       "      <td>0</td>\n",
       "      <td>0</td>\n",
       "    </tr>\n",
       "    <tr>\n",
       "      <th>6</th>\n",
       "      <td>2020</td>\n",
       "      <td>2020020001</td>\n",
       "      <td>Philadelphia Flyers</td>\n",
       "      <td>Pittsburgh Penguins</td>\n",
       "      <td>2021-01-13T22:39:09Z</td>\n",
       "      <td>1</td>\n",
       "      <td>04:30</td>\n",
       "      <td>59.0</td>\n",
       "      <td>-35.0</td>\n",
       "      <td>Sam Lafferty</td>\n",
       "      <td>...</td>\n",
       "      <td>46.10</td>\n",
       "      <td>60.31</td>\n",
       "      <td>-14.21</td>\n",
       "      <td>0</td>\n",
       "      <td>0</td>\n",
       "      <td>0</td>\n",
       "      <td>0</td>\n",
       "      <td>0</td>\n",
       "      <td>0</td>\n",
       "      <td>1</td>\n",
       "    </tr>\n",
       "    <tr>\n",
       "      <th>8</th>\n",
       "      <td>2020</td>\n",
       "      <td>2020020001</td>\n",
       "      <td>Philadelphia Flyers</td>\n",
       "      <td>Pittsburgh Penguins</td>\n",
       "      <td>2021-01-13T22:39:53Z</td>\n",
       "      <td>1</td>\n",
       "      <td>05:12</td>\n",
       "      <td>81.0</td>\n",
       "      <td>-5.0</td>\n",
       "      <td>Mark Jankowski</td>\n",
       "      <td>...</td>\n",
       "      <td>9.43</td>\n",
       "      <td>46.10</td>\n",
       "      <td>-36.67</td>\n",
       "      <td>0</td>\n",
       "      <td>0</td>\n",
       "      <td>0</td>\n",
       "      <td>1</td>\n",
       "      <td>0</td>\n",
       "      <td>0</td>\n",
       "      <td>0</td>\n",
       "    </tr>\n",
       "    <tr>\n",
       "      <th>9</th>\n",
       "      <td>2020</td>\n",
       "      <td>2020020001</td>\n",
       "      <td>Philadelphia Flyers</td>\n",
       "      <td>Pittsburgh Penguins</td>\n",
       "      <td>2021-01-13T22:49:21Z</td>\n",
       "      <td>1</td>\n",
       "      <td>05:32</td>\n",
       "      <td>32.0</td>\n",
       "      <td>0.0</td>\n",
       "      <td>Mike Matheson</td>\n",
       "      <td>...</td>\n",
       "      <td>57.00</td>\n",
       "      <td>9.43</td>\n",
       "      <td>47.57</td>\n",
       "      <td>0</td>\n",
       "      <td>0</td>\n",
       "      <td>0</td>\n",
       "      <td>0</td>\n",
       "      <td>0</td>\n",
       "      <td>0</td>\n",
       "      <td>1</td>\n",
       "    </tr>\n",
       "  </tbody>\n",
       "</table>\n",
       "<p>5 rows × 34 columns</p>\n",
       "</div>"
      ],
      "text/plain": [
       "  season_id     game_id            home_team            away_team  \\\n",
       "1      2020  2020020001  Philadelphia Flyers  Pittsburgh Penguins   \n",
       "3      2020  2020020001  Philadelphia Flyers  Pittsburgh Penguins   \n",
       "6      2020  2020020001  Philadelphia Flyers  Pittsburgh Penguins   \n",
       "8      2020  2020020001  Philadelphia Flyers  Pittsburgh Penguins   \n",
       "9      2020  2020020001  Philadelphia Flyers  Pittsburgh Penguins   \n",
       "\n",
       "               dateTime  period periodTime  x_loc  y_loc         shooter  ...  \\\n",
       "1  2021-01-13T22:33:18Z       1      00:34   49.0  -25.0  Evan Rodrigues  ...   \n",
       "3  2021-01-13T22:37:01Z       1      02:51   43.0   39.0  Evan Rodrigues  ...   \n",
       "6  2021-01-13T22:39:09Z       1      04:30   59.0  -35.0    Sam Lafferty  ...   \n",
       "8  2021-01-13T22:39:53Z       1      05:12   81.0   -5.0  Mark Jankowski  ...   \n",
       "9  2021-01-13T22:49:21Z       1      05:32   32.0    0.0   Mike Matheson  ...   \n",
       "\n",
       "   shot_dist shot_dist_prev shot_dist_diff  shot_type_Backhand  \\\n",
       "1      47.17           0.00          47.17                   0   \n",
       "3      60.31          47.17          13.14                   0   \n",
       "6      46.10          60.31         -14.21                   0   \n",
       "8       9.43          46.10         -36.67                   0   \n",
       "9      57.00           9.43          47.57                   0   \n",
       "\n",
       "  shot_type_Deflected  shot_type_Slap Shot shot_type_Snap Shot  \\\n",
       "1                   0                    0                   0   \n",
       "3                   0                    0                   1   \n",
       "6                   0                    0                   0   \n",
       "8                   0                    0                   1   \n",
       "9                   0                    0                   0   \n",
       "\n",
       "   shot_type_Tip-In  shot_type_Wrap-around  shot_type_Wrist Shot  \n",
       "1                 0                      0                     1  \n",
       "3                 0                      0                     0  \n",
       "6                 0                      0                     1  \n",
       "8                 0                      0                     0  \n",
       "9                 0                      0                     1  \n",
       "\n",
       "[5 rows x 34 columns]"
      ]
     },
     "execution_count": 31,
     "metadata": {},
     "output_type": "execute_result"
    }
   ],
   "source": [
    "# convert to dataframe\n",
    "df = pd.DataFrame(shots)\n",
    "df = df[df['goalie'] != ''] # filter empty net goals\n",
    "df = df[df['period'] != 5] # filter shootout attempts\n",
    "\n",
    "\n",
    "# find total seconds between shots (periodTime)\n",
    "df['time_seconds'] = df['periodTime'].str[:2].astype(int) * 60 + df['periodTime'].str[3:].astype(int)\n",
    "df['time_seconds'] = np.where(df['period'] == 2, df['time_seconds'] + 1200, \n",
    "                                 np.where(df['period'] == 3, df['time_seconds'] + 2400, df['time_seconds']))\n",
    "df = df.sort_values(by=['game_id', 'goalie', 'time_seconds']) # sort by game_id and goalie name\n",
    "df['time_seconds_diff'] = df.groupby(['game_id', 'goalie'])['time_seconds'].diff(1).fillna(df['time_seconds'])\n",
    "\n",
    "# get total shots\n",
    "df['tot_shots'] = 1\n",
    "df['tot_shots'] = df.groupby(['game_id', 'goalie'])['tot_shots'].cumsum()\n",
    "\n",
    "# fix all shots to one side of ice (adjust x and y coordinates)\n",
    "df.loc[df['x_loc'] < 0, 'y_loc'] = df['y_loc'] * -1\n",
    "df['x_loc'] = df['x_loc'].abs()\n",
    "df = df[df['x_loc'].notna()]\n",
    "\n",
    "# calculate angle of shot compared to goal\n",
    "x_goal = 89\n",
    "df['shot_angle'] = np.where(df['x_loc'] != x_goal,\n",
    "                            # when shot is from behind the net\n",
    "                            np.where(df['x_loc'] > x_goal,\n",
    "                                     np.where(df['y_loc'] >= 0,\n",
    "                                              round(90 + (90 - np.arctan(df['y_loc'] / (df['x_loc'] - x_goal)) * (180 / np.pi)), 2),\n",
    "                                              round(-90 - (90 + np.arctan(df['y_loc'] / (df['x_loc'] - x_goal)) * (180 / np.pi)), 2)\n",
    "                                             ),\n",
    "                                     # when shot is in front of net\n",
    "                                     round(np.arctan(df['y_loc'] / (x_goal - df['x_loc'])) * (180 / np.pi), 2)\n",
    "                                    ),\n",
    "                            # when shot is taken on the goal line\n",
    "                            np.where(df['y_loc'] >= 0, 90, -90)\n",
    "                           )\n",
    "\n",
    "# calculate difference in shot angle\n",
    "df['shot_angle_prev'] = df.groupby(['game_id', 'goalie'])['shot_angle'].shift(1).fillna(0)\n",
    "df['shot_angle_diff'] = np.absolute(np.where(df['shot_angle'] < df['shot_angle_prev'],\n",
    "                                                df['shot_angle'] - df['shot_angle_prev'],\n",
    "                                                df['shot_angle_prev'] - df['shot_angle']\n",
    "                                            )\n",
    "                                   )\n",
    "\n",
    "# determine if goalie moved to his right since last shot to attempt to make save\n",
    "df['goalie_move_right'] = np.where(df['shot_angle'] > df['shot_angle_prev'], True, False)\n",
    "\n",
    "# calculate shot distance to goal\n",
    "df['shot_dist'] = round(np.sqrt(np.square(df['x_loc'] - x_goal) + np.square(df['y_loc'])), 2)\n",
    "df['shot_dist_prev'] = df.groupby(['game_id', 'goalie'])['shot_dist'].shift(1).fillna(0)\n",
    "df['shot_dist_diff'] = df['shot_dist'] - df['shot_dist_prev']\n",
    "\n",
    "# generate dummy vars for shot_type\n",
    "df = pd.get_dummies(df, columns=['shot_type'])\n",
    "\n",
    "\n",
    "# drop rows with missing values\n",
    "df.dropna(axis=0, inplace=True) \n",
    "\n",
    "df.head()"
   ]
  },
  {
   "cell_type": "markdown",
   "id": "f5a78343",
   "metadata": {},
   "source": [
    "### EDA\n",
    "\n",
    "Confirm features make sense.\n",
    "\n",
    "##### Shot Timeline and Shot Outcome"
   ]
  },
  {
   "cell_type": "code",
   "execution_count": 22,
   "id": "0e4bf349",
   "metadata": {},
   "outputs": [
    {
     "data": {
      "image/png": "[encoded data removed]",
      "text/plain": [
       "<Figure size 432x288 with 4 Axes>"
      ]
     },
     "metadata": {
      "needs_background": "light"
     },
     "output_type": "display_data"
    }
   ],
   "source": [
    "df_tmp = df[df['goalie']=='Frederik Andersen'].sort_values(['game_id', 'time_seconds'])\n",
    "game_ids = df_tmp['game_id'].unique().tolist()[0:4] # get list of four games\n",
    "\n",
    "# initiate plots\n",
    "fig = plt.figure()\n",
    "subs = [221,222,223,224]\n",
    "\n",
    "for i in range(0,len(game_ids)):\n",
    "    df_tmp2 = df_tmp[df_tmp['game_id']==game_ids[i]]\n",
    "    date = df_tmp2['dateTime'].iloc[0][0:10]\n",
    "    color = ['red' if goal else 'green' for goal in df_tmp2['is_goal'] ]\n",
    "\n",
    "    ax=fig.add_subplot(subs[i])\n",
    "    ax.scatter(df_tmp2['time_seconds'], df_tmp2['tot_shots'], c=color)\n",
    "    ax.plot(df_tmp2['time_seconds'], df_tmp2['tot_shots'], color='green')\n",
    "    plt.title(f'Fred Anderson Shots Faced on {date}')\n",
    "    plt.xlabel(\"Time in Seconds\")\n",
    "    plt.ylabel(\"Total Shots\")\n",
    "\n",
    "plt.subplots_adjust(top=2, right=2)\n",
    "plt.show()"
   ]
  },
  {
   "cell_type": "markdown",
   "id": "be4455c3",
   "metadata": {},
   "source": [
    "##### Shot Location and Outcome"
   ]
  },
  {
   "cell_type": "code",
   "execution_count": 23,
   "id": "4c693c27",
   "metadata": {},
   "outputs": [
    {
     "data": {
      "image/png": "[encoded data removed]",
      "text/plain": [
       "<Figure size 432x288 with 4 Axes>"
      ]
     },
     "metadata": {
      "needs_background": "light"
     },
     "output_type": "display_data"
    }
   ],
   "source": [
    "df_tmp = df[df['goalie']=='Frederik Andersen'].sort_values(['game_id', 'time_seconds'])\n",
    "game_ids = df_tmp['game_id'].unique().tolist()[0:4] # get list of four games\n",
    "\n",
    "# initiate plots\n",
    "fig = plt.figure()\n",
    "subs = [221,222,223,224]\n",
    "\n",
    "for i in range(0,len(game_ids)):\n",
    "    df_tmp2 = df_tmp[df_tmp['game_id']==game_ids[i]]\n",
    "    date = df_tmp2['dateTime'].iloc[0][0:10]\n",
    "\n",
    "    # read img (retrieved from https://thewincolumn.ca/2021/01/15/r-tutorial-creating-an-nhl-rink-using-the-tidyverse/)\n",
    "    img = plt.imread(\"../data/images/nhl_rink_plot_output_light.png\")\n",
    "    ax = fig.add_subplot(subs[i])\n",
    "    ax.imshow(img, extent=[0, 100, -42.5, 42.5])\n",
    "\n",
    "    # plot\n",
    "    goals = ax.scatter(df_tmp2[df_tmp2['is_goal']==True]['x_loc'], \n",
    "                        df_tmp2[df_tmp2['is_goal']==True]['y_loc'], \n",
    "                        c='red', \n",
    "                        label='Goals')\n",
    "    non_goals = ax.scatter(df_tmp2[df_tmp2['is_goal']==False]['x_loc'], \n",
    "                            df_tmp2[df_tmp2['is_goal']==False]['y_loc'], \n",
    "                            c='green', \n",
    "                            label='Saves')\n",
    "    plt.title(f'Fred Anderson Shots Faced on {date}')\n",
    "    plt.xlabel(\"x_location\")\n",
    "    plt.ylabel(\"y_location\")\n",
    "    ax.legend()\n",
    "\n",
    "plt.subplots_adjust(top=2, right=2)\n",
    "plt.show()"
   ]
  },
  {
   "cell_type": "markdown",
   "id": "bd539587",
   "metadata": {},
   "source": [
    "##### Change in Angle and Shot Outcome"
   ]
  },
  {
   "cell_type": "code",
   "execution_count": 24,
   "id": "290fd196",
   "metadata": {},
   "outputs": [
    {
     "name": "stderr",
     "output_type": "stream",
     "text": [
      "/var/folders/ll/7dqm5ml15lb384fy0jvks7fr0000gn/T/ipykernel_72620/985295497.py:25: RuntimeWarning: invalid value encountered in double_scalars\n",
      "  labels.append(round(goals[0][i] / non_goals[0][i] * 100,1))\n"
     ]
    },
    {
     "data": {
      "image/png": "[encoded data removed]",
      "text/plain": [
       "<Figure size 432x288 with 1 Axes>"
      ]
     },
     "metadata": {
      "needs_background": "light"
     },
     "output_type": "display_data"
    }
   ],
   "source": [
    "df_rebounds = df[df['time_seconds_diff'] <= 2].copy() # get shots with previous shot taken in past 3 seconds\n",
    "# df_rebounds = df_rebounds[df_rebounds['goalie'] != ''] # filter empty netters\n",
    "\n",
    "fig, ax = plt.subplots()\n",
    "\n",
    "bins = list(np.linspace(0,200,11))\n",
    "non_goals = plt.hist(df_rebounds['shot_angle_diff'],\n",
    "                        color='#A2AAAD',\n",
    "                        label='Total Shots',\n",
    "                        bins=bins)\n",
    "goals = plt.hist(df_rebounds[df_rebounds['is_goal'] == True]['shot_angle_diff'],\n",
    "                color='#CC0000',\n",
    "                label='Goals',\n",
    "                bins=bins)\n",
    "\n",
    "plt.title('Proportion of Goals Scored on Rebound Shots\\n(Shots Taken Within 2 Seconds of Previous Shot)')\n",
    "plt.xlabel(\"Change in Angle Since Previous Shot\")\n",
    "plt.ylabel(\"Count\")\n",
    "ax.legend()\n",
    "\n",
    "# create labels\n",
    "rects = ax.patches\n",
    "labels = []\n",
    "for i in range(len(goals[0])):\n",
    "    labels.append(round(goals[0][i] / non_goals[0][i] * 100,1))\n",
    "\n",
    "\n",
    "# apply labels\n",
    "for rect, label in zip(rects, labels):\n",
    "    height = rect.get_height()\n",
    "    text_color = 'black'\n",
    "    ax.text(rect.get_x() + rect.get_width() / 2, height + 5, str(label)+'%',\n",
    "            ha='center', va='bottom', color=text_color)\n",
    "    \n",
    "plt.subplots_adjust(top=2, right=2)\n",
    "plt.show()"
   ]
  },
  {
   "cell_type": "markdown",
   "id": "624653dd",
   "metadata": {},
   "source": [
    "##### Shot Type and Shot Outcome"
   ]
  },
  {
   "cell_type": "code",
   "execution_count": 25,
   "id": "abc2c3af",
   "metadata": {},
   "outputs": [
    {
     "data": {
      "image/png": "[encoded data removed]",
      "text/plain": [
       "<Figure size 432x288 with 1 Axes>"
      ]
     },
     "metadata": {
      "needs_background": "light"
     },
     "output_type": "display_data"
    }
   ],
   "source": [
    "# get goal counts for each type of shot\n",
    "df_tmp = df[['is_goal', 'shot_type_Backhand', 'shot_type_Deflected', 'shot_type_Slap Shot',\n",
    "            'shot_type_Snap Shot', 'shot_type_Tip-In', 'shot_type_Wrap-around', 'shot_type_Wrist Shot']].copy() \n",
    "\n",
    "# extract data as arrays\n",
    "x_labels = ['Backhand', 'Deflected', 'Slap Shot', 'Snap Shot', 'Tip-In', 'Wrap-around', 'Wrist Shot']\n",
    "goals = df_tmp[df_tmp['is_goal']].sum()[1:].values\n",
    "all_shots = df_tmp.sum()[1:].values\n",
    "\n",
    "fig = plt.figure()\n",
    "\n",
    "#### create skater performance plot ###\n",
    "ax1 = fig.add_subplot()\n",
    "skater_shots = ax1.bar(x_labels, all_shots,\n",
    "                color='#A2AAAD',\n",
    "                label='Shots')\n",
    "skater_goals = ax1.bar(x_labels, goals,\n",
    "                color='#046A38',\n",
    "                label='Goals')\n",
    "ax1.legend()\n",
    "plt.title('Shot Type Success')\n",
    "plt.xlabel(\"\")\n",
    "plt.ylabel(\"Count\")\n",
    "plt.xticks(rotation=30)\n",
    "\n",
    "# print goal percentage for each timezone\n",
    "rects = ax1.patches # create labels\n",
    "labels = []\n",
    "for i in range(len(goals)):\n",
    "    labels.append(round(goals[i] / all_shots[i] * 100,1))\n",
    "for rect, label in zip(rects, labels): # apply labels\n",
    "    height = rect.get_height()\n",
    "    text_color = 'black'\n",
    "    ax1.text(rect.get_x() + rect.get_width() / 2, height + 5, str(label)+'%',\n",
    "            ha='center', va='bottom', color=text_color)\n",
    "\n",
    "plt.subplots_adjust(top=1.5, right=2)\n",
    "plt.show()"
   ]
  },
  {
   "cell_type": "markdown",
   "id": "be5b582d",
   "metadata": {},
   "source": [
    "### Model Building"
   ]
  },
  {
   "cell_type": "code",
   "execution_count": 26,
   "id": "e398f405",
   "metadata": {},
   "outputs": [],
   "source": [
    "# model selection\n",
    "from sklearn.model_selection import train_test_split, GridSearchCV\n",
    "\n",
    "# linear models\n",
    "from sklearn.linear_model import LinearRegression, LogisticRegression, LogisticRegressionCV, Ridge, RidgeCV, Lasso, LassoCV\n",
    "            \n",
    "# tree based models            \n",
    "from sklearn.tree import DecisionTreeRegressor\n",
    "from sklearn.ensemble import BaggingRegressor, RandomForestRegressor, GradientBoostingRegressor\n",
    "\n",
    "# other stuff\n",
    "from sklearn import metrics\n",
    "from sklearn.preprocessing import MinMaxScaler\n",
    "from sklearn.metrics import make_scorer"
   ]
  },
  {
   "cell_type": "markdown",
   "id": "ba66eb95",
   "metadata": {},
   "source": [
    "##### Test Train Split\n",
    "\n",
    "We wish to take a stratified test-train-split of 70% training and 30% testing. Here, strata will be the season each shot came from -- we wish to compose our test/train datasets with similar proportions of shots from each season."
   ]
  },
  {
   "cell_type": "code",
   "execution_count": 32,
   "id": "0ebd356e",
   "metadata": {},
   "outputs": [],
   "source": [
    "#### delete columns that are unnecessary ####\n",
    "cols_to_drop = ['game_id', 'home_team', 'away_team',\n",
    "                'dateTime', 'period', 'periodTime',\n",
    "                'shooter_team', 'goalie_team', 'strength', \n",
    "                'shot_angle_prev', 'shot_dist_prev']\n",
    "df = df.drop(cols_to_drop, axis=1)"
   ]
  },
  {
   "cell_type": "code",
   "execution_count": 41,
   "id": "c9f942ce",
   "metadata": {},
   "outputs": [],
   "source": [
    "#### book-keeping dataset ####\n",
    "# in order for our custom scoring metric to work, we need to have a way to re-map\n",
    "## shot probabilities and shot outcomes back to the original shooters/goalies\n",
    "df_results = df[['shooter', 'shooter_id', 'goalie', 'goalie_id', 'is_goal']] # use this to score model performance\n",
    "\n",
    "\n",
    "#### original data ####\n",
    "# copy dataframe, then drop unecessary cols\n",
    "df_tmp = df.copy()\n",
    "df_tmp.drop(['shooter', 'shooter_id', 'goalie', 'goalie_id'], axis=1, inplace=True)\n",
    "\n",
    "# begin splitting dataset\n",
    "df_2021FinalModelComparison = df_tmp[df_tmp['season_id'] == '2021'].drop('season_id', axis=1) # final holdout set\n",
    "df_tmp = df_tmp[df_tmp['season_id'] != '2021']\n",
    "y = df_tmp.pop('is_goal') # response vector\n",
    "X = df_tmp.copy()         # predictors\n",
    "X_train, X_test, y_train, y_test = train_test_split(X, \n",
    "                                                    y, \n",
    "                                                    test_size=0.3, \n",
    "                                                    random_state=123, \n",
    "                                                    stratify=X['season_id'])\n",
    "X_train.drop('season_id', axis=1, inplace=True) # get rid of season_id ... after splitting, we have no use for this\n",
    "X_test.drop('season_id', axis=1, inplace=True)\n",
    "\n",
    "\n",
    "#### normalized data - neccessary for logit models ####\n",
    "# re-copy dataframe and drop unnecessary columns\n",
    "df_tmp = df.copy()\n",
    "df_tmp.drop(['shooter', 'shooter_id', 'goalie', 'goalie_id'], axis=1, inplace=True)\n",
    "\n",
    "# scale all numeric columns\n",
    "scaler = MinMaxScaler()  # initialize scaler\n",
    "df_tmp[list(df_tmp.columns)[1:]] = scaler.fit_transform(df_tmp[list(df_tmp.columns)[1:]]) # scale all columns\n",
    "\n",
    "# begin splitting scaled dataset\n",
    "df_2021FinalModelComparison_scaled = df_tmp[df_tmp['season_id'] == '2021'].drop('season_id', axis=1) # final holdout set\n",
    "df_tmp = df_tmp[df_tmp['season_id'] != '2021']\n",
    "y = df_tmp.pop('is_goal') # response vector\n",
    "X = df_tmp.copy()         # predictors\n",
    "X_train_scaled, X_test_scaled, y_train_scaled, y_test_scaled = train_test_split(X, \n",
    "                                                                                y, \n",
    "                                                                                test_size=0.3, \n",
    "                                                                                random_state=123,\n",
    "                                                                                stratify=X['season_id'])\n",
    "X_train_scaled.drop('season_id', axis=1, inplace=True) # get rid of season_id ... after splitting, we have no use for this\n",
    "X_test_scaled.drop('season_id', axis=1, inplace=True)"
   ]
  },
  {
   "cell_type": "markdown",
   "id": "4adee972",
   "metadata": {},
   "source": [
    "##### Model Training\n",
    "\n",
    "We will train the following models:\n",
    "\n",
    "* Linear Models\n",
    "* Linear Regression\n",
    "* Logistic Regression\n",
    "* Ridge Regression\n",
    "* Lasso Regression\n",
    "* Tree-Based Models\n",
    "* Decision Tree\n",
    "* Bagged Tree\n",
    "* Random Forest Tree\n",
    "* Boosted Tree\n",
    "\n",
    "##### Hyperparameter Tuning\n",
    "\n",
    "For hyperparameter tuning, we will opt for a custom scoring metric. The scoring function is calculated using the following steps:\n",
    "\n",
    "* Predict shot probabilities\n",
    "* Re-map shot probabilities/outcomes back to original shooter_id\n",
    "* Calculate the sum of shot probabilities for each shooter_id (expected goals)\n",
    "* Calculate the sum of shot outcomes for each shooter_id (actual goals)\n",
    "* Calculate the difference between the above two metrics (residual)\n",
    "* Use these residuals to calculate the RMSE (root-mean-squared error) of this model\n",
    "\n",
    "Hyperparameters are tuned using 5-fold cross-validation (where appropriate)."
   ]
  },
  {
   "cell_type": "code",
   "execution_count": 38,
   "id": "88bf8aa5",
   "metadata": {},
   "outputs": [],
   "source": [
    "def get_rmse(probabilities, shotta, y_test):\n",
    "    \n",
    "    # get list of shots tested, add column of shot probability predictions\n",
    "    df_test = pd.DataFrame(y_test)\n",
    "    df_test['is_goal_probability'] = probabilities\n",
    "    df_test.sort_index(inplace=True)\n",
    "\n",
    "    # join with original dataframe containing skater/goalie names, and shot results\n",
    "    df_test = df_results[df_results.index.isin(df_test.index)].join(df_test[['is_goal_probability']])\n",
    "\n",
    "    # get expected goals for each skater\n",
    "    groups = ['goalie_id', 'goalie']\n",
    "    if shotta:\n",
    "        groups = ['shooter_id', 'shooter']\n",
    "    test_results = df_test.groupby(groups)[['is_goal', 'is_goal_probability']].sum().sort_values('is_goal', ascending=False)\n",
    "    test_results['error'] = test_results['is_goal_probability'] - test_results['is_goal']\n",
    "    rmse = np.sqrt(np.mean(np.square(test_results['error'])))\n",
    "    return rmse\n",
    "\n",
    "# custom scoring function\n",
    "def my_custom_loss_func(y_test, y_pred):\n",
    "    return get_rmse(y_pred, False, y_test)\n",
    "custom_scorer = make_scorer(my_custom_loss_func, greater_is_better=False)"
   ]
  },
  {
   "cell_type": "code",
   "execution_count": 42,
   "id": "65f9820c",
   "metadata": {},
   "outputs": [
    {
     "data": {
      "text/plain": [
       "LinearRegression()"
      ]
     },
     "execution_count": 42,
     "metadata": {},
     "output_type": "execute_result"
    }
   ],
   "source": [
    "#### linear regression ####\n",
    "\n",
    "# initiate model\n",
    "linreg = LinearRegression()\n",
    "\n",
    "# fit model\n",
    "linreg.fit(X_train, y_train)"
   ]
  },
  {
   "cell_type": "code",
   "execution_count": 43,
   "id": "2a85cd1d",
   "metadata": {},
   "outputs": [
    {
     "data": {
      "text/plain": [
       "LogisticRegression(max_iter=200)"
      ]
     },
     "execution_count": 43,
     "metadata": {},
     "output_type": "execute_result"
    }
   ],
   "source": [
    "#### logistic regression ####\n",
    "\n",
    "# initiate model\n",
    "logit = LogisticRegression(max_iter=200)\n",
    "\n",
    "# fit model\n",
    "logit.fit(X_train_scaled, y_train_scaled)"
   ]
  },
  {
   "cell_type": "code",
   "execution_count": 44,
   "id": "28938e29",
   "metadata": {},
   "outputs": [],
   "source": [
    "#### ridge regression ####\n",
    "\n",
    "# initiate the cross validation over alphas\n",
    "r_alphas = np.logspace(0, 5, 50)\n",
    "ridgereg = RidgeCV(cv=5, \n",
    "                   alphas=r_alphas, \n",
    "                   scoring=custom_scorer)\n",
    "\n",
    "# fit the model with the best alpha\n",
    "ridgereg = ridgereg.fit(X_train_scaled, y_train_scaled)"
   ]
  },
  {
   "cell_type": "code",
   "execution_count": 45,
   "id": "77d78ae4",
   "metadata": {},
   "outputs": [],
   "source": [
    "#### lasso regression ####\n",
    "\n",
    "# initiate the cross validation over alphas\n",
    "alphas = np.array([5, 0.5, 0.05, 0.005, 0.0005, 1, 0.1, 0.01, 0.001, 0.0001])\n",
    "grid = GridSearchCV(estimator=Lasso(), \n",
    "                    cv=5,\n",
    "                    param_grid=dict(alpha=alphas), \n",
    "                    scoring=custom_scorer)\n",
    "\n",
    "# fit the model with the best alpha\n",
    "lassoreg = grid.fit(X_train_scaled, y_train_scaled)"
   ]
  },
  {
   "cell_type": "code",
   "execution_count": 46,
   "id": "5b30ff09",
   "metadata": {},
   "outputs": [],
   "source": [
    "#### decision tree ####\n",
    "\n",
    "# use 5-fold cv to get optimal set of hyperparams\n",
    "param_grid = {\"criterion\": ['squared_error'],\n",
    "              \"min_samples_split\": [10, 20, 40],\n",
    "              \"max_depth\": [2, 4, 8, 16, 32],\n",
    "              \"min_samples_leaf\": [20],\n",
    "              \"max_leaf_nodes\": [5, 20, 100],\n",
    "              }\n",
    "grid_dtm = GridSearchCV(DecisionTreeRegressor(random_state = 123), \n",
    "                        cv=5,\n",
    "                        param_grid=param_grid, \n",
    "                        scoring=custom_scorer)\n",
    "\n",
    "# fit the model\n",
    "grid_dtm = grid_dtm.fit(X_train, y_train)\n",
    "dtm = grid_dtm.best_estimator_"
   ]
  },
  {
   "cell_type": "code",
   "execution_count": 50,
   "id": "14eace4f",
   "metadata": {},
   "outputs": [],
   "source": [
    "#### bagged tree ####\n",
    "\n",
    "# use 5-fold cv to get optimal set of hyperparams\n",
    "param_grid = {\"n_estimators\": [200, 500, 1000],\n",
    "              \"max_features\": [1, 2, 3]\n",
    "              }\n",
    "grid_bagtm = GridSearchCV(estimator=BaggingRegressor(n_jobs=-1, random_state=123), \n",
    "                          cv=5,\n",
    "                          param_grid=param_grid, \n",
    "                          scoring=custom_scorer)\n",
    "\n",
    "# fit the model\n",
    "grid_bagtm = grid_bagtm.fit(X_train, y_train)\n",
    "bagtm = grid_bagtm.best_estimator_"
   ]
  },
  {
   "cell_type": "code",
   "execution_count": 51,
   "id": "ad54b4df",
   "metadata": {},
   "outputs": [],
   "source": [
    "#### random forest tree ####\n",
    "\n",
    "# use 5-fold cv to get optimal set of hyperparams\n",
    "param_grid = {\"n_estimators\": [500, 1000],\n",
    "              \"max_depth\": [1, 2, 3]\n",
    "              }\n",
    "grid_rftm = GridSearchCV(estimator=RandomForestRegressor(max_features='sqrt', n_jobs=-1, random_state=123), \n",
    "                          cv=5,\n",
    "                          param_grid=param_grid, \n",
    "                          scoring=custom_scorer)\n",
    "\n",
    "# fit the model\n",
    "grid_rftm = grid_rftm.fit(X_train, y_train)\n",
    "rftm = grid_rftm.best_estimator_"
   ]
  },
  {
   "cell_type": "code",
   "execution_count": 52,
   "id": "68f47473",
   "metadata": {},
   "outputs": [],
   "source": [
    "#### boosted tree ####\n",
    "\n",
    "# use 5-fold cv to get optimal set of hyperparams\n",
    "param_grid = {\"n_estimators\": [500, 1000],\n",
    "              \"max_depth\": [1, 2, 3],\n",
    "              \"alpha\": [0.01, 0.1]\n",
    "              }\n",
    "grid_boosttm = GridSearchCV(estimator=GradientBoostingRegressor(max_features='sqrt', random_state=123), \n",
    "                          cv=5,\n",
    "                          param_grid=param_grid, \n",
    "                          scoring=custom_scorer)\n",
    "\n",
    "# fit the model\n",
    "grid_boosttm = grid_boosttm.fit(X_train, y_train)\n",
    "boosttm = grid_boosttm.best_estimator_"
   ]
  },
  {
   "cell_type": "markdown",
   "id": "63dc5268",
   "metadata": {},
   "source": [
    "##### Model Testing\n",
    "\n",
    "Here, we compare computed error rates of each model. Models have two scores: skater RMSE and goalie RMSE (explanation of calculation in 'Model Training' section). For final model selection, the model with the lowest skater RMSE will be selected."
   ]
  },
  {
   "cell_type": "code",
   "execution_count": 53,
   "id": "8ccebbc7",
   "metadata": {},
   "outputs": [],
   "source": [
    "def get_shooter_rmse(probabilities, y_test):\n",
    "    return get_rmse(probabilities, True, y_test)\n",
    "\n",
    "def get_goalie_rmse(probabilities, y_test):\n",
    "    return get_rmse(probabilities, False, y_test)\n",
    "\n",
    "def print_rmse(probabilities, y_test):\n",
    "    print(f'Skaters RMSE: {get_shooter_rmse(probabilities, y_test)}')\n",
    "    print(f'Goalies RMSE: {get_goalie_rmse(probabilities, y_test)}\\n')"
   ]
  },
  {
   "cell_type": "code",
   "execution_count": 54,
   "id": "d020622a",
   "metadata": {},
   "outputs": [
    {
     "name": "stdout",
     "output_type": "stream",
     "text": [
      "Linear Regression:\n",
      "Skaters RMSE: 1.2824571182557458\n",
      "Goalies RMSE: 3.7433384472865785\n",
      "\n",
      "Logistic Regression:\n",
      "Skaters RMSE: 1.2960059201233323\n",
      "Goalies RMSE: 3.674751775948828\n",
      "\n",
      "Ridge Regression with alpha=1842.07:\n",
      "Skaters RMSE: 1.3371778476369456\n",
      "Goalies RMSE: 3.835157514593912\n",
      "\n",
      "Lasso Regression with alpha=0.005:\n",
      "Skaters RMSE: 1.335181457168078\n",
      "Goalies RMSE: 3.8710641072996452\n",
      "\n"
     ]
    }
   ],
   "source": [
    "#### Linear Regression Testing ####\n",
    "pred = linreg.predict(X_test)\n",
    "print('Linear Regression:')\n",
    "print_rmse(pred, y_test)\n",
    "\n",
    "#### Logistic Regression Testing ####\n",
    "probs = logit.predict_proba(X_test_scaled)\n",
    "pred = pd.DataFrame(probs)[1].values\n",
    "print('Logistic Regression:')\n",
    "print_rmse(pred, y_test_scaled)\n",
    "\n",
    "#### Ridge Regression Testing ####\n",
    "pred = ridgereg.predict(X_test_scaled)\n",
    "print(f'Ridge Regression with alpha={round(ridgereg.alpha_, 2)}:')\n",
    "print_rmse(pred, y_test_scaled)\n",
    "\n",
    "#### Lasso Regression Testing ####\n",
    "pred = lassoreg.predict(X_test_scaled)\n",
    "print(f'Lasso Regression with alpha={lassoreg.best_estimator_.alpha}:')\n",
    "print_rmse(pred, y_test_scaled)"
   ]
  },
  {
   "cell_type": "code",
   "execution_count": 55,
   "id": "8ac03a29",
   "metadata": {},
   "outputs": [
    {
     "name": "stdout",
     "output_type": "stream",
     "text": [
      "Decision Tree Regressor\n",
      "Skaters RMSE: 1.2924590725058953\n",
      "Goalies RMSE: 3.7917266368088733\n",
      "\n",
      "Bagged Tree Regressor\n",
      "Skaters RMSE: 1.4157405372990859\n",
      "Goalies RMSE: 3.8579492273294465\n",
      "\n",
      "Random Forest Tree Regressor\n",
      "Skaters RMSE: 1.3314273692613268\n",
      "Goalies RMSE: 3.8181687185288387\n",
      "\n",
      "Boosted Tree Regressor\n",
      "Skaters RMSE: 1.282995110119756\n",
      "Goalies RMSE: 3.6076327172232108\n",
      "\n"
     ]
    }
   ],
   "source": [
    "#### Decision Tree Regressor Testing ####\n",
    "pred = dtm.predict(X_test)\n",
    "print(f'Decision Tree Regressor')\n",
    "print_rmse(pred, y_test)\n",
    "\n",
    "#### Bagged Tree Regressor Testing ####\n",
    "pred = bagtm.predict(X_test)\n",
    "print(f'Bagged Tree Regressor')\n",
    "print_rmse(pred, y_test)\n",
    "\n",
    "#### Random Forest Tree Regressor Testing ####\n",
    "pred = rftm.predict(X_test)\n",
    "print(f'Random Forest Tree Regressor')\n",
    "print_rmse(pred, y_test)\n",
    "\n",
    "#### Boosted Tree Regressor Testing ####\n",
    "pred = boosttm.predict(X_test)\n",
    "print(f'Boosted Tree Regressor')\n",
    "print_rmse(pred, y_test)"
   ]
  },
  {
   "cell_type": "markdown",
   "id": "0943836f",
   "metadata": {},
   "source": [
    "### Final Model\n",
    "\n",
    "Model with lowest skaters rmse is Boosted Tree Regressor. Save this model for future use."
   ]
  },
  {
   "cell_type": "code",
   "execution_count": 62,
   "id": "58796237",
   "metadata": {},
   "outputs": [],
   "source": [
    "import pickle\n",
    "with open('expectedGoals_FINAL.sav', 'wb') as f:\n",
    "    pickle.dump(boosttm, f)"
   ]
  },
  {
   "cell_type": "markdown",
   "id": "b6e98808",
   "metadata": {},
   "source": [
    "### To Make New Predictions\n",
    "\n",
    "1. Load the model\n",
    "2. Predict using _predict_ method"
   ]
  },
  {
   "cell_type": "code",
   "execution_count": 63,
   "id": "33f7bbb8",
   "metadata": {},
   "outputs": [
    {
     "name": "stdout",
     "output_type": "stream",
     "text": [
      "Boosted Tree Regressor\n",
      "Skaters RMSE: 1.282995110119756\n",
      "Goalies RMSE: 3.6076327172232108\n",
      "\n"
     ]
    }
   ],
   "source": [
    "with open('expectedGoals_FINAL.sav', 'rb') as f:\n",
    "    loaded_model = pickle.load(f)\n",
    "\n",
    "#### Boosted Tree Regressor Testing ####\n",
    "pred = loaded_model.predict(X_test)\n",
    "print(f'Boosted Tree Regressor')\n",
    "print_rmse(pred, y_test)"
   ]
  },
  {
   "cell_type": "code",
   "execution_count": null,
   "id": "36012cbf",
   "metadata": {},
   "outputs": [],
   "source": []
  },
  {
   "cell_type": "code",
   "execution_count": null,
   "id": "c78b4a86",
   "metadata": {},
   "outputs": [],
   "source": []
  },
  {
   "cell_type": "code",
   "execution_count": null,
   "id": "28b3d4a8",
   "metadata": {},
   "outputs": [],
   "source": [
    "\n",
    "\n",
    "\n",
    "\n",
    "\n",
    "\n",
    "\n",
    "\n",
    "\n",
    "\n",
    "\n",
    "\n",
    "\n",
    "\n",
    "\n",
    "\n",
    "\n",
    "\n",
    "\n",
    "\n",
    "\n",
    "\n",
    "\n",
    "\n"
   ]
  }
 ],
 "metadata": {
  "kernelspec": {
   "display_name": "Python 3 (ipykernel)",
   "language": "python",
   "name": "python3"
  },
  "language_info": {
   "codemirror_mode": {
    "name": "ipython",
    "version": 3
   },
   "file_extension": ".py",
   "mimetype": "text/x-python",
   "name": "python",
   "nbconvert_exporter": "python",
   "pygments_lexer": "ipython3",
   "version": "3.8.1"
  }
 },
 "nbformat": 4,
 "nbformat_minor": 5
}
