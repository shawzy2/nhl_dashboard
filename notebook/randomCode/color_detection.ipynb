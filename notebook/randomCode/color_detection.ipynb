{
 "cells": [
  {
   "cell_type": "markdown",
   "id": "07fd0be0",
   "metadata": {},
   "source": [
    "# Calculating Distance Between Two Colors"
   ]
  },
  {
   "cell_type": "code",
   "execution_count": 1,
   "id": "f2b73b7f",
   "metadata": {},
   "outputs": [],
   "source": [
    "from colormath.color_objects import sRGBColor, LabColor, \n",
    "from colormath.color_conversions import convert_color\n",
    "from colormath.color_diff import delta_e_cie2000"
   ]
  },
  {
   "cell_type": "code",
   "execution_count": 10,
   "id": "04a740d5",
   "metadata": {},
   "outputs": [
    {
     "data": {
      "text/plain": [
       "[0, 56, 10]"
      ]
     },
     "execution_count": 10,
     "metadata": {},
     "output_type": "execute_result"
    }
   ],
   "source": [
    "# convert hex to rgb\n",
    "h = '#0038A8'\n",
    "rgb1 = int(h[1:3], 16)\n",
    "rgb2 = int(h[3:5], 16)\n",
    "rgb3 = int(h[5], 16)\n",
    "# tuple(int(h[i:i+2], 16) for i in (1, 3, 5))\n",
    "[rgb1, rgb2, rgb3]"
   ]
  },
  {
   "cell_type": "code",
   "execution_count": 11,
   "id": "2195df6b",
   "metadata": {},
   "outputs": [
    {
     "data": {
      "text/plain": [
       "sRGBColor(rgb_r=0.0,rgb_g=56.0,rgb_b=10.0)"
      ]
     },
     "execution_count": 11,
     "metadata": {},
     "output_type": "execute_result"
    }
   ],
   "source": [
    "sRGBColor(rgb1, rgb2, rgb3)"
   ]
  },
  {
   "cell_type": "code",
   "execution_count": 19,
   "id": "d287f8fb",
   "metadata": {},
   "outputs": [],
   "source": [
    "def get_color_diff(hex1, hex2):\n",
    "    # convert team1 hex to rgb\n",
    "    hex1_r = int(hex1[1:3], 16)\n",
    "    hex1_g = int(hex1[3:5], 16)\n",
    "    hex1_b = int(hex1[5:], 16)\n",
    "    color1_rgb = sRGBColor(hex1_r, hex1_g, hex1_b);\n",
    "\n",
    "    # convert team2 hex to rgb\n",
    "    hex2_r = int(hex2[1:3], 16)\n",
    "    hex2_g = int(hex2[3:5], 16)\n",
    "    hex2_b = int(hex2[5:], 16)\n",
    "    color2_rgb = sRGBColor(hex2_r, hex2_g, hex2_b);\n",
    "\n",
    "\n",
    "    # Convert from RGB to Lab Color Space\n",
    "    color1_lab = convert_color(color1_rgb, LabColor);\n",
    "\n",
    "    # Convert from RGB to Lab Color Space\n",
    "    color2_lab = convert_color(color2_rgb, LabColor);\n",
    "\n",
    "    # Find the color difference\n",
    "    delta_e = delta_e_cie2000(color1_lab, color2_lab);\n",
    "    \n",
    "    return delta_e\n",
    "\n",
    "#     print(\"The difference between the 2 colors = \", delta_e)"
   ]
  },
  {
   "cell_type": "code",
   "execution_count": 29,
   "id": "fd1c33c4",
   "metadata": {},
   "outputs": [
    {
     "data": {
      "text/plain": [
       "74.38890788489637"
      ]
     },
     "execution_count": 29,
     "metadata": {},
     "output_type": "execute_result"
    }
   ],
   "source": [
    "# CAR vs NYR\n",
    "get_color_diff(hex1 = '#0038A8', hex2 = '#CC0000')"
   ]
  },
  {
   "cell_type": "code",
   "execution_count": 30,
   "id": "a7e56581",
   "metadata": {},
   "outputs": [
    {
     "data": {
      "text/plain": [
       "118.56416800334834"
      ]
     },
     "execution_count": 30,
     "metadata": {},
     "output_type": "execute_result"
    }
   ],
   "source": [
    "# CAR vs BOS\n",
    "get_color_diff(hex1 = '#0038A8', hex2 = '#FFB81C')"
   ]
  },
  {
   "cell_type": "code",
   "execution_count": 31,
   "id": "cd270bb6",
   "metadata": {},
   "outputs": [
    {
     "data": {
      "text/plain": [
       "0.0"
      ]
     },
     "execution_count": 31,
     "metadata": {},
     "output_type": "execute_result"
    }
   ],
   "source": [
    "# FLA vs WSH\n",
    "get_color_diff(hex1 = '#041E42', hex2 = '#041E42')"
   ]
  },
  {
   "cell_type": "code",
   "execution_count": 32,
   "id": "715ce0d0",
   "metadata": {},
   "outputs": [
    {
     "data": {
      "text/plain": [
       "26.55351434900045"
      ]
     },
     "execution_count": 32,
     "metadata": {},
     "output_type": "execute_result"
    }
   ],
   "source": [
    "# FLA vs SEA\n",
    "get_color_diff(hex1 = '#041E42', hex2 = '#001628')"
   ]
  },
  {
   "cell_type": "code",
   "execution_count": 33,
   "id": "d499adaa",
   "metadata": {},
   "outputs": [
    {
     "data": {
      "text/plain": [
       "136.94381496367512"
      ]
     },
     "execution_count": 33,
     "metadata": {},
     "output_type": "execute_result"
    }
   ],
   "source": [
    "# PIT vs SEA\n",
    "get_color_diff(hex1 = '#000000', hex2 = '#001628')"
   ]
  },
  {
   "cell_type": "code",
   "execution_count": 34,
   "id": "5f87a2f3",
   "metadata": {},
   "outputs": [
    {
     "data": {
      "text/plain": [
       "10.980432387293801"
      ]
     },
     "execution_count": 34,
     "metadata": {},
     "output_type": "execute_result"
    }
   ],
   "source": [
    "# TOR vs TBL\n",
    "get_color_diff(hex1 = '#00205B', hex2 = '#002868')"
   ]
  },
  {
   "cell_type": "code",
   "execution_count": 46,
   "id": "5440d7de",
   "metadata": {},
   "outputs": [
    {
     "data": {
      "text/plain": [
       "137.95746431872487"
      ]
     },
     "execution_count": 46,
     "metadata": {},
     "output_type": "execute_result"
    }
   ],
   "source": [
    "# FLA vs TBL\n",
    "get_color_diff(hex1 = '#041E42', hex2 = '#002868')\n",
    "get_color_diff(hex1 = '#041E42', hex2 = '#000000')"
   ]
  },
  {
   "cell_type": "code",
   "execution_count": 36,
   "id": "37a5c899",
   "metadata": {},
   "outputs": [
    {
     "data": {
      "text/plain": [
       "21.85610283281044"
      ]
     },
     "execution_count": 36,
     "metadata": {},
     "output_type": "execute_result"
    }
   ],
   "source": [
    "# MIN vs DAL\n",
    "get_color_diff(hex1 = '#154734', hex2 = '#006847')"
   ]
  },
  {
   "cell_type": "code",
   "execution_count": 38,
   "id": "394a13cf",
   "metadata": {},
   "outputs": [
    {
     "data": {
      "text/plain": [
       "16.353532501288576"
      ]
     },
     "execution_count": 38,
     "metadata": {},
     "output_type": "execute_result"
    }
   ],
   "source": [
    "# CAR vs MTL\n",
    "get_color_diff(hex1 = '#CC0000', hex2 = '#AF1E2D')"
   ]
  },
  {
   "cell_type": "code",
   "execution_count": 39,
   "id": "f2da9172",
   "metadata": {},
   "outputs": [
    {
     "data": {
      "text/plain": [
       "14.603656749565172"
      ]
     },
     "execution_count": 39,
     "metadata": {},
     "output_type": "execute_result"
    }
   ],
   "source": [
    "# ANA vs EDM \n",
    "get_color_diff(hex1 = '#F47A38', hex2 = '#FF4C00')"
   ]
  },
  {
   "cell_type": "code",
   "execution_count": 47,
   "id": "72f4b763",
   "metadata": {},
   "outputs": [
    {
     "data": {
      "text/plain": [
       "138.1436602250518"
      ]
     },
     "execution_count": 47,
     "metadata": {},
     "output_type": "execute_result"
    }
   ],
   "source": [
    "# PIT vs ANA\n",
    "get_color_diff(hex1 = '#000000', hex2 = '#A2AAAD')"
   ]
  },
  {
   "cell_type": "code",
   "execution_count": 45,
   "id": "bbf6ddde",
   "metadata": {},
   "outputs": [
    {
     "data": {
      "text/plain": [
       "[162, 170, 173]"
      ]
     },
     "execution_count": 45,
     "metadata": {},
     "output_type": "execute_result"
    }
   ],
   "source": [
    "hex2 = '#A2AAAD'\n",
    "hex2_r = int(hex2[1:3], 16)\n",
    "hex2_g = int(hex2[3:5], 16)\n",
    "hex2_b = int(hex2[5:], 16)\n",
    "[hex2_r,hex2_g,hex2_b]"
   ]
  },
  {
   "cell_type": "code",
   "execution_count": null,
   "id": "814506f8",
   "metadata": {},
   "outputs": [],
   "source": []
  },
  {
   "cell_type": "code",
   "execution_count": null,
   "id": "66ca4efe",
   "metadata": {},
   "outputs": [],
   "source": []
  },
  {
   "cell_type": "code",
   "execution_count": null,
   "id": "c76edb14",
   "metadata": {},
   "outputs": [],
   "source": []
  },
  {
   "cell_type": "code",
   "execution_count": null,
   "id": "7106499b",
   "metadata": {},
   "outputs": [],
   "source": [
    "\n",
    "\n",
    "\n",
    "\n",
    "\n",
    "\n",
    "\n",
    "\n",
    "\n",
    "\n",
    "\n",
    "\n",
    "\n",
    "\n",
    "\n",
    "\n",
    "\n",
    "\n",
    "\n",
    "\n",
    "\n",
    "\n",
    "\n",
    "\n",
    "\n",
    "\n",
    "\n",
    "\n",
    "\n",
    "\n",
    "\n",
    "\n",
    "\n",
    "\n",
    "\n",
    "\n",
    "\n",
    "\n",
    "\n",
    "\n",
    "\n",
    "\n",
    "\n",
    "\n",
    "\n",
    "\n",
    "\n",
    "\n",
    "\n",
    "\n",
    "\n",
    "\n",
    "\n",
    "\n",
    "\n",
    "\n",
    "\n"
   ]
  }
 ],
 "metadata": {
  "kernelspec": {
   "display_name": "Python 3 (ipykernel)",
   "language": "python",
   "name": "python3"
  },
  "language_info": {
   "codemirror_mode": {
    "name": "ipython",
    "version": 3
   },
   "file_extension": ".py",
   "mimetype": "text/x-python",
   "name": "python",
   "nbconvert_exporter": "python",
   "pygments_lexer": "ipython3",
   "version": "3.8.1"
  }
 },
 "nbformat": 4,
 "nbformat_minor": 5
}
